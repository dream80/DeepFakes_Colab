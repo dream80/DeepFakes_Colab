{
  "nbformat": 4,
  "nbformat_minor": 0,
  "metadata": {
    "colab": {
      "name": "DeepFaceLab_Colab.ipynb",
      "version": "0.3.2",
      "provenance": [],
      "collapsed_sections": [],
      "toc_visible": true,
      "include_colab_link": true
    },
    "kernelspec": {
      "name": "python3",
      "display_name": "Python 3"
    },
    "accelerator": "GPU"
  },
  "cells": [
    {
      "cell_type": "markdown",
      "metadata": {
        "id": "view-in-github",
        "colab_type": "text"
      },
      "source": [
        "<a href=\"https://colab.research.google.com/github/dream80/DeepFakes_Colab/blob/master/DeepFaceLab_Colab.ipynb\" target=\"_parent\"><img src=\"https://colab.research.google.com/assets/colab-badge.svg\" alt=\"Open In Colab\"/></a>"
      ]
    },
    {
      "metadata": {
        "id": "KWQMLYlFrTXz",
        "colab_type": "text"
      },
      "cell_type": "markdown",
      "source": [
        "# Overview\n",
        "\n",
        "Nothing to say , just run run run  it "
      ]
    },
    {
      "metadata": {
        "id": "ldpC3PjRrYYh",
        "colab_type": "text"
      },
      "cell_type": "markdown",
      "source": [
        "# Step 1 Upload your *workspace* to Google Drive\n",
        "\n",
        "\n",
        "1. Create a directory called ***DeepFaceLab*** in the root directory of Google Cloud.\n",
        "2. Upload ***workspace*** to ***DeepFaceLab***  \n",
        "3. Mount Google Drive as folder\n",
        "4. Enter the directory by command\n",
        "\n"
      ]
    },
    {
      "metadata": {
        "id": "D7toZxhT4J9W",
        "colab_type": "code",
        "colab": {}
      },
      "cell_type": "code",
      "source": [
        "#Mount Google Drive as folder\n",
        "\n",
        "from google.colab import drive\n",
        "\n",
        "drive.mount('/content/drive', force_remount=True)"
      ],
      "execution_count": 0,
      "outputs": []
    },
    {
      "metadata": {
        "id": "rDUpbJYR54dw",
        "colab_type": "code",
        "colab": {}
      },
      "cell_type": "code",
      "source": [
        "# Enter the directory by command\n",
        "%cd /content/drive/My Drive/DeepFaceLab/"
      ],
      "execution_count": 0,
      "outputs": []
    },
    {
      "metadata": {
        "id": "yA4nziLPtAf9",
        "colab_type": "text"
      },
      "cell_type": "markdown",
      "source": [
        "#Step 2  Install DFL\n"
      ]
    },
    {
      "metadata": {
        "id": "yd11UhiUvUfP",
        "colab_type": "code",
        "colab": {}
      },
      "cell_type": "code",
      "source": [
        "#Clone stable master branch(recommended)\n",
        "\n",
        "!git clone https://github.com/dream80/DeepFaceLab_Colab.git\n",
        "  \n",
        "#Pull updates from repository\n",
        "!git pull\n",
        "\n",
        "\n",
        "# Into DeepFaceLab_Colab\n",
        "%cd /content/drive/My Drive/DeepFaceLab/DeepFaceLab_Colab\n",
        "\n",
        "#Install requirements\n",
        "\n",
        "!pip install -r requirements.txt\n",
        "!pip install --upgrade scikit-image"
      ],
      "execution_count": 0,
      "outputs": []
    },
    {
      "metadata": {
        "id": "9G9s5gJrty-x",
        "colab_type": "text"
      },
      "cell_type": "markdown",
      "source": [
        "# Step 3. Extract faces"
      ]
    },
    {
      "metadata": {
        "id": "97VTmSmkEk2j",
        "colab_type": "code",
        "colab": {}
      },
      "cell_type": "code",
      "source": [
        "# Into DeepFaceLab_Colab\n",
        "%cd /content/drive/My Drive/DeepFaceLab/DeepFaceLab_Colab"
      ],
      "execution_count": 0,
      "outputs": []
    },
    {
      "metadata": {
        "id": "z35vHpqaw8t-",
        "colab_type": "code",
        "colab": {}
      },
      "cell_type": "code",
      "source": [
        "#Extract frames from DST video\n",
        "\n",
        "!python main.py videoed extract-video --input-file ../workspace/data_dst.mp4 --output-dir ../workspace/data_dst/"
      ],
      "execution_count": 0,
      "outputs": []
    },
    {
      "metadata": {
        "id": "EbAY9bJvxDBK",
        "colab_type": "code",
        "colab": {}
      },
      "cell_type": "code",
      "source": [
        "#Extract Face from data_dst\n",
        "\n",
        "!python main.py extract --input-dir ../workspace/data_dst --output-dir ../workspace/data_dst/aligned --detector s3fd --debug-dir ../workspace/data_dst/aligned_debug"
      ],
      "execution_count": 0,
      "outputs": []
    },
    {
      "metadata": {
        "id": "w8qxq7jAxGrQ",
        "colab_type": "code",
        "colab": {}
      },
      "cell_type": "code",
      "source": [
        "#Extract frames from SRC video\n",
        "!python main.py videoed extract-video --input-file ../workspace/data_src.mp4 --output-dir ../workspace/data_src/"
      ],
      "execution_count": 0,
      "outputs": []
    },
    {
      "metadata": {
        "id": "hpTukPbSxbGP",
        "colab_type": "code",
        "colab": {}
      },
      "cell_type": "code",
      "source": [
        "#Extract Face from data_src\n",
        "\n",
        "!python main.py extract --input-dir ../workspace/data_src --output-dir ../workspace/data_src/aligned --detector s3fd --debug-dir ../workspace/data_src/aligned_debug"
      ],
      "execution_count": 0,
      "outputs": []
    },
    {
      "metadata": {
        "id": "QxO1kNO_uRTF",
        "colab_type": "text"
      },
      "cell_type": "markdown",
      "source": [
        "# Step 4. Train model\n",
        "\n",
        "\n",
        "*   Only SAE\n",
        "*   Set model options on output field\n",
        "*   You can't get preview in output. (for now)\n",
        "*   Different samples are saved in SAE_history. You can see the last saved preview, if you run the block 'Show last preview ..', ut you have to stop training for this.\n",
        "*   Also, you can see the preview if you download the image from SAE_history manually. It does not require to stop training.\n",
        "*   I plan to make a preview for the notebook later\n",
        "*   For stop training you  need manually interrupt execution. You get error in output, but model will be saved.\n"
      ]
    },
    {
      "metadata": {
        "id": "JOxI3qTaxr4x",
        "colab_type": "code",
        "colab": {}
      },
      "cell_type": "code",
      "source": [
        "# Running trainer.\n",
        "\n",
        "!python main.py train --training-data-src-dir ../workspace/data_src/aligned --training-data-dst-dir ../workspace/data_dst/aligned --model-dir ../workspace/model --model SAE --no-preview"
      ],
      "execution_count": 0,
      "outputs": []
    },
    {
      "metadata": {
        "id": "m2Ba96cVuS0K",
        "colab_type": "text"
      },
      "cell_type": "markdown",
      "source": [
        "# Step 5. Convert frames"
      ]
    },
    {
      "metadata": {
        "id": "__aUSMa80-_M",
        "colab_type": "code",
        "colab": {}
      },
      "cell_type": "code",
      "source": [
        "#Convert \n",
        "!python main.py convert --input-dir ../workspace/data_dst --output-dir ../workspace/data_dst/merged --aligned-dir ../workspace/data_dst/aligned --model-dir ../workspace/model --model SAE"
      ],
      "execution_count": 0,
      "outputs": []
    },
    {
      "metadata": {
        "id": "symb8EIc1Csf",
        "colab_type": "code",
        "colab": {}
      },
      "cell_type": "code",
      "source": [
        "#Convert frames to result video \n",
        "\n",
        "!python main.py videoed video-from-sequence --input-dir ../workspace/data_dst/merged --output-file ../workspace/result.mp4 --reference-file ../workspace/data_dst.mp4"
      ],
      "execution_count": 0,
      "outputs": []
    },
    {
      "metadata": {
        "id": "5H85SsIW1PI3",
        "colab_type": "text"
      },
      "cell_type": "markdown",
      "source": [
        "# Others\n",
        "\n",
        "You can see the results of each step on google Drive\n",
        "\n",
        "https://drive.google.com/drive/my-drive"
      ]
    }
  ]
}